{
 "cells": [
  {
   "cell_type": "markdown",
   "metadata": {},
   "source": [
    "# Hechos sobre la Luna"
   ]
  },
  {
   "cell_type": "markdown",
   "metadata": {},
   "source": [
    "###### 1.- Modificar el texto con hechos sobre la Luna y extraer información para crear un breve resumen"
   ]
  },
  {
   "cell_type": "code",
   "execution_count": 25,
   "metadata": {},
   "outputs": [
    {
     "name": "stdout",
     "output_type": "stream",
     "text": [
      "\n",
      "        On average, the Moon moves 4cm away from the Earth every year\n",
      "The highest daylight temperature of the Moon is 127 Celsius.\n"
     ]
    }
   ],
   "source": [
    "text = \"\"\"Interesting facts about the Moon. The Moon is Earth's only satellite. There are several interesting facts about the Moon and how it affects life here on Earth. \n",
    "        On average, the Moon moves 4cm away from the Earth every year. This yearly drift is not significant enough to cause immediate effects on Earth. The highest daylight temperature of the Moon is 127 C.\"\"\"\n",
    "frases = text.split(\". \")\n",
    "p_claves = ['average', 'temperature', 'distance']\n",
    "\n",
    "for frase in frases:\n",
    "    for p_clave in p_claves:\n",
    "        if p_clave in frase:\n",
    "            print(frase.replace('C','Celsius'))\n",
    "\n",
    "    \n"
   ]
  },
  {
   "cell_type": "markdown",
   "metadata": {},
   "source": [
    "# Gravedad de las lunas"
   ]
  },
  {
   "cell_type": "markdown",
   "metadata": {},
   "source": [
    "###### 2.- Dar formato a las cadenas e imprimir la información."
   ]
  },
  {
   "cell_type": "code",
   "execution_count": 23,
   "metadata": {},
   "outputs": [
    {
     "name": "stdout",
     "output_type": "stream",
     "text": [
      "Hechos sobre la gravedad de Luna\n",
      "**************************************************\n",
      "Nombre del planeta: Tierra\n",
      "Gravedad en Luna: 1.6199999999999999 m/s^2\n"
     ]
    }
   ],
   "source": [
    "nombre_luna = 'Luna'\n",
    "gravedad = 0.00162  # en kms\n",
    "planeta = 'Tierra'\n",
    "\n",
    "titulo = f'Hechos sobre la gravedad de {nombre_luna}'\n",
    "nombre_planeta = f'Nombre del planeta: {planeta}'\n",
    "datos_luna = f'Gravedad en {nombre_luna}: {gravedad*1000} m/s^2'\n",
    "plantilla = f\"\"\"{titulo}\\n{'*'*50}\\n{nombre_planeta}\\n{datos_luna}\"\"\"\n",
    "print(plantilla)\n"
   ]
  }
 ],
 "metadata": {
  "interpreter": {
   "hash": "018a1cde5fd5b85d21de73fc7be59c57873b4bae96484ee79c2b703b633dff66"
  },
  "kernelspec": {
   "display_name": "Python 3.8.8rc1 64-bit",
   "language": "python",
   "name": "python3"
  },
  "language_info": {
   "codemirror_mode": {
    "name": "ipython",
    "version": 3
   },
   "file_extension": ".py",
   "mimetype": "text/x-python",
   "name": "python",
   "nbconvert_exporter": "python",
   "pygments_lexer": "ipython3",
   "version": "3.8.8rc1"
  },
  "orig_nbformat": 4
 },
 "nbformat": 4,
 "nbformat_minor": 2
}
