{
 "cells": [
  {
   "cell_type": "markdown",
   "metadata": {},
   "source": [
    "# Información planetaria"
   ]
  },
  {
   "cell_type": "markdown",
   "metadata": {},
   "source": [
    "###### 1.-Usar listas para almacenar nombres de planetas"
   ]
  },
  {
   "cell_type": "code",
   "execution_count": 4,
   "metadata": {},
   "outputs": [
    {
     "name": "stdout",
     "output_type": "stream",
     "text": [
      "Existen 8 en el sistema solar\n",
      "Agregando a Pluton:\n",
      "Hay 9 en el sistema solar\n"
     ]
    }
   ],
   "source": [
    "planetas = ['Mercurio','Venus', 'Tierra', 'Marte', 'Jupiter','Saturno','Urano','Neptuno']\n",
    "print(f'Existen {len(planetas)} en el sistema solar')\n",
    "print('Agregando a Pluton:')\n",
    "planetas.append('Pluton')\n",
    "print(f'Hay {len(planetas)} en el sistema solar')\n",
    "    "
   ]
  },
  {
   "cell_type": "markdown",
   "metadata": {},
   "source": [
    "## Planetas más cerca y más lejos del sol"
   ]
  },
  {
   "cell_type": "markdown",
   "metadata": {},
   "source": [
    "###### Mostrar planetas más cerca y más lejos del sol de un planeta que el usuario ingresa por teclado."
   ]
  },
  {
   "cell_type": "code",
   "execution_count": 17,
   "metadata": {},
   "outputs": [
    {
     "name": "stdout",
     "output_type": "stream",
     "text": [
      "Los planetas mas cercanos al sol antes de Venus: ['Mercurio']\n",
      "Los planetas mas lejanos al sol despues de Venus: ['Tierra', 'Marte', 'Jupiter', 'Saturno', 'Urano', 'Neptuno']\n"
     ]
    }
   ],
   "source": [
    "planetas = ['Mercurio','Venus', 'Tierra', 'Marte', 'Jupiter','Saturno','Urano','Neptuno']\n",
    "planeta_usuario =input('Ingrese el nombre de un planeta (primera letra mayuscula): ')\n",
    "posicion_planeta = planetas.index(planeta_usuario)\n",
    "print(f'Los planetas mas cercanos al sol antes de {planeta_usuario}: {planetas[0:posicion_planeta] }')\n",
    "print(f'Los planetas mas lejanos al sol despues de {planeta_usuario}: {planetas[posicion_planeta+1:] }')\n",
    "if planeta_usuario == 'Neptuno':\n",
    "      print('\\tYa no hay planetas despues de Neptuno')\n"
   ]
  }
 ],
 "metadata": {
  "interpreter": {
   "hash": "018a1cde5fd5b85d21de73fc7be59c57873b4bae96484ee79c2b703b633dff66"
  },
  "kernelspec": {
   "display_name": "Python 3.8.8rc1 64-bit",
   "language": "python",
   "name": "python3"
  },
  "language_info": {
   "codemirror_mode": {
    "name": "ipython",
    "version": 3
   },
   "file_extension": ".py",
   "mimetype": "text/x-python",
   "name": "python",
   "nbconvert_exporter": "python",
   "pygments_lexer": "ipython3",
   "version": "3.8.8"
  },
  "orig_nbformat": 4
 },
 "nbformat": 4,
 "nbformat_minor": 2
}
