{
 "cells": [
  {
   "cell_type": "markdown",
   "metadata": {},
   "source": [
    "# Listado de planetas"
   ]
  },
  {
   "cell_type": "markdown",
   "metadata": {},
   "source": [
    "###### 1.- Listado de planetas ingresados por el usuario"
   ]
  },
  {
   "cell_type": "code",
   "execution_count": 1,
   "metadata": {},
   "outputs": [
    {
     "name": "stdout",
     "output_type": "stream",
     "text": [
      "Ingrese los planetas que quiera agregar a su lista\n",
      "Cuando haya agregado todos los elementos escribir la palabra 'hecho'\n"
     ]
    }
   ],
   "source": [
    "planeta_usuario = ''\n",
    "listado_planetas = []\n",
    "\n",
    "print('Ingrese los planetas que quiera agregar a su lista')\n",
    "print(f\"\"\"Cuando haya agregado todos los elementos escribir la palabra 'hecho'\"\"\")\n",
    "while planeta_usuario.lower() != 'hecho':\n",
    "    if planeta_usuario:\n",
    "        listado_planetas.append(planeta_usuario)\n",
    "    planeta_usuario = input('Ingrese el siguiente planeta: ')\n"
   ]
  },
  {
   "cell_type": "markdown",
   "metadata": {},
   "source": [
    "###### 2.-Mostrar los nombres de los planetas ingresados por el usuario. "
   ]
  },
  {
   "cell_type": "code",
   "execution_count": 2,
   "metadata": {},
   "outputs": [
    {
     "name": "stdout",
     "output_type": "stream",
     "text": [
      "Los planetas que ingreso son los siguientes:\n",
      "Marte\n",
      "Jupiter\n"
     ]
    }
   ],
   "source": [
    "print('Los planetas que ingreso son los siguientes:')\n",
    "for listado_planeta in listado_planetas:\n",
    "    print(listado_planeta)"
   ]
  }
 ],
 "metadata": {
  "interpreter": {
   "hash": "018a1cde5fd5b85d21de73fc7be59c57873b4bae96484ee79c2b703b633dff66"
  },
  "kernelspec": {
   "display_name": "Python 3.8.8rc1 64-bit",
   "language": "python",
   "name": "python3"
  },
  "language_info": {
   "name": "python",
   "version": "3.8.8"
  },
  "orig_nbformat": 4
 },
 "nbformat": 4,
 "nbformat_minor": 2
}
