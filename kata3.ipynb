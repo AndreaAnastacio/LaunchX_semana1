{
 "cells": [
  {
   "cell_type": "markdown",
   "metadata": {},
   "source": [
    "# Asteroide acercandose a la tierra"
   ]
  },
  {
   "cell_type": "markdown",
   "metadata": {},
   "source": [
    "######  Imprimir advertencia si un asteroide se acerca a la Tierra demasiado rápido. La velocidad del asteroide varía dependiendo de lo cerca que esté del sol, y cualquier velocidad superior a 25 kilómetros por segundo (km/s) merece una advertencia."
   ]
  },
  {
   "cell_type": "markdown",
   "metadata": {},
   "source": [
    "###### Un asteroide se acerca, y viaja a una velocidad de 49 km/s."
   ]
  },
  {
   "cell_type": "code",
   "execution_count": 8,
   "metadata": {},
   "outputs": [
    {
     "name": "stdout",
     "output_type": "stream",
     "text": [
      "¡Cuidado!, un asteroide se aproxima rapidamente a la Tierra\n"
     ]
    }
   ],
   "source": [
    "velocidad_asteroide = 49\n",
    "if velocidad_asteroide > 25:\n",
    "    print('¡Cuidado!, un asteroide se aproxima rapidamente a la Tierra')\n",
    "else:\n",
    "    print('No hay de que preocuparse, puedes continuar con tu dia')"
   ]
  },
  {
   "cell_type": "markdown",
   "metadata": {},
   "source": [
    "###### Si un asteroide entra en la atmósfera de la Tierra a una velocidad mayor o igual a 20 km/s, a veces produce un rayo de luz que se puede ver desde la Tierra. "
   ]
  },
  {
   "cell_type": "markdown",
   "metadata": {},
   "source": [
    "###### Alertar a las personas de todo el mundo que deben buscar un asteroide en el cielo."
   ]
  },
  {
   "cell_type": "code",
   "execution_count": 2,
   "metadata": {},
   "outputs": [
    {
     "name": "stdout",
     "output_type": "stream",
     "text": [
      "No hay luz brillante en el cielo :c\n"
     ]
    }
   ],
   "source": [
    "velocidad_asteroide = 19\n",
    "if velocidad_asteroide >=20:\n",
    "    print('¡Mira el cielo!, una luz brillante de asteroide')\n",
    "else:\n",
    "    print('No hay luz brillante en el cielo :c')"
   ]
  },
  {
   "cell_type": "markdown",
   "metadata": {},
   "source": [
    "### Operadores and y or"
   ]
  },
  {
   "cell_type": "markdown",
   "metadata": {},
   "source": [
    "###### Con la nueva información sobre los asteorides: emita la advertencia o información correcta a la gente de la Tierra, según la velocidad y el tamaño de un asteroide."
   ]
  },
  {
   "cell_type": "code",
   "execution_count": 9,
   "metadata": {},
   "outputs": [
    {
     "name": "stdout",
     "output_type": "stream",
     "text": [
      "¡Se aproxima un asteroide!\n"
     ]
    }
   ],
   "source": [
    "velocidad_asteroide = 26\n",
    "tamanio_asteroide = 40\n",
    "if velocidad_asteroide > 25 and tamanio_asteroide >25:\n",
    "    print('¡Se aproxima un asteroide!')\n",
    "elif velocidad_asteroide >=20:\n",
    "    print('¡Mira el cielo!, una luz brillante de asteroide')\n",
    "elif tamanio_asteroide < 25:\n",
    "    print('No hay nada que observar')\n",
    "else:\n",
    "    print('No hay nada que observar')"
   ]
  }
 ],
 "metadata": {
  "interpreter": {
   "hash": "018a1cde5fd5b85d21de73fc7be59c57873b4bae96484ee79c2b703b633dff66"
  },
  "kernelspec": {
   "display_name": "Python 3.8.8rc1 64-bit",
   "language": "python",
   "name": "python3"
  },
  "language_info": {
   "codemirror_mode": {
    "name": "ipython",
    "version": 3
   },
   "file_extension": ".py",
   "mimetype": "text/x-python",
   "name": "python",
   "nbconvert_exporter": "python",
   "pygments_lexer": "ipython3",
   "version": "3.8.8"
  },
  "orig_nbformat": 4
 },
 "nbformat": 4,
 "nbformat_minor": 2
}
