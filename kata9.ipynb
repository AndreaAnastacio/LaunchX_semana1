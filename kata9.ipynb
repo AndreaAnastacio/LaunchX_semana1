{
 "cells": [
  {
   "cell_type": "markdown",
   "metadata": {},
   "source": [
    "# Datos sobre un cohete"
   ]
  },
  {
   "cell_type": "markdown",
   "metadata": {},
   "source": [
    "###### 1.-Informe de combustible "
   ]
  },
  {
   "cell_type": "code",
   "execution_count": 15,
   "metadata": {},
   "outputs": [
    {
     "name": "stdout",
     "output_type": "stream",
     "text": [
      "Informe de combustible\n",
      "Combustible en el tanque 1: 45 galones\n",
      "Combustible en el tanque 2: 78 galones\n",
      "Combustible en el tanque 3: 90 galones\n",
      "Promedio del combustible en el coete: 71.0 galones\n"
     ]
    }
   ],
   "source": [
    "def informe_combustible (tanque_c1,tanque_c2, tanque_c3):\n",
    "    promedio_c = promedio_combustible([tanque_c1, tanque_c2, tanque_c3])\n",
    "    return f\"\"\"Combustible en el tanque 1: {tanque_c1} galones\n",
    "Combustible en el tanque 2: {tanque_c2} galones\n",
    "Combustible en el tanque 3: {tanque_c3} galones\n",
    "Promedio del combustible en el coete: {promedio_c} galones\"\"\"\n",
    "\n",
    "def promedio_combustible(values):\n",
    "   suma_c= sum(values)\n",
    "   numero_tanques=len(values)\n",
    "   return suma_c/numero_tanques\n",
    "\n",
    "print(f'Informe de combustible\\n{informe_combustible(45,78,90)}')\n",
    "\n"
   ]
  },
  {
   "cell_type": "markdown",
   "metadata": {},
   "source": [
    "###### 2.- Informe de tiempo de llegada, el combustible a la izquierda y el nombre del destino"
   ]
  },
  {
   "cell_type": "markdown",
   "metadata": {},
   "source": [
    "###### Construirás un informe de cohete que requiere varias piezas de información, como el tiempo hasta el destino, el combustible a la izquierda y el nombre del destino."
   ]
  },
  {
   "cell_type": "code",
   "execution_count": 36,
   "metadata": {},
   "outputs": [
    {
     "name": "stdout",
     "output_type": "stream",
     "text": [
      "Destino Marte \n",
      "    Tiempo de vuelo: 189 minutos\n",
      "    Combustible total restante: 190000 galones\n",
      "    Combustible restante en cada tanque:\n",
      "     Tanque t_1 : 150000 galones restantes\n",
      "     Tanque t_2 : 40000 galones restantes\n",
      "\n"
     ]
    }
   ],
   "source": [
    "def informe_vuelo(destino,*minutos, **combustible_restante):\n",
    "    reporte_mision = f\"\"\"Destino {destino} \n",
    "    Tiempo de vuelo: {sum(minutos)} minutos\n",
    "    Combustible total restante: {sum(combustible_restante.values())} galones\n",
    "    Combustible restante en cada tanque:\\n\"\"\"\n",
    "    for tanque , galones in combustible_restante.items():\n",
    "             reporte_mision += f\"     Tanque {tanque} : {galones} galones restantes\\n\"\n",
    "    return reporte_mision\n",
    "      \n",
    "print(informe_vuelo('Marte',35, 154,t_1=150000, t_2=40000))\n"
   ]
  }
 ],
 "metadata": {
  "interpreter": {
   "hash": "018a1cde5fd5b85d21de73fc7be59c57873b4bae96484ee79c2b703b633dff66"
  },
  "kernelspec": {
   "display_name": "Python 3.8.8rc1 64-bit",
   "language": "python",
   "name": "python3"
  },
  "language_info": {
   "codemirror_mode": {
    "name": "ipython",
    "version": 3
   },
   "file_extension": ".py",
   "mimetype": "text/x-python",
   "name": "python",
   "nbconvert_exporter": "python",
   "pygments_lexer": "ipython3",
   "version": "3.8.8rc1"
  },
  "orig_nbformat": 4
 },
 "nbformat": 4,
 "nbformat_minor": 2
}
