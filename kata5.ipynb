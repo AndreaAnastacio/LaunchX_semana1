{
 "cells": [
  {
   "cell_type": "markdown",
   "metadata": {},
   "source": [
    "# Distancia entre planetas"
   ]
  },
  {
   "cell_type": "markdown",
   "metadata": {},
   "source": [
    "######  1.-Calcular la distancia entre dos planetas."
   ]
  },
  {
   "cell_type": "code",
   "execution_count": 8,
   "metadata": {},
   "outputs": [
    {
     "name": "stdout",
     "output_type": "stream",
     "text": [
      "La distancia entre la Tierra y Jupiter es:\n",
      "En km: 628949330\n",
      "En millas: 390577533.93 \n"
     ]
    }
   ],
   "source": [
    "sol_a_p1 = 149597870 #km\n",
    "sol_a_p2 = 778547200 #km\n",
    "\n",
    "distancia_km = sol_a_p2 - sol_a_p1\n",
    "distancia_millas=distancia_km* 0.621\n",
    "print(f'La distancia entre la Tierra y Jupiter es:\\nEn km: {distancia_km}\\nEn millas: {distancia_millas} ')\n"
   ]
  },
  {
   "cell_type": "markdown",
   "metadata": {},
   "source": [
    "### Distancia entre planetas con datos de usuario"
   ]
  },
  {
   "cell_type": "markdown",
   "metadata": {},
   "source": [
    "###### 2.-Leer la distancia del sol para dos planetas, y luego mostrar la distancia entre esos planetas."
   ]
  },
  {
   "cell_type": "code",
   "execution_count": 13,
   "metadata": {},
   "outputs": [
    {
     "name": "stdout",
     "output_type": "stream",
     "text": [
      "La distancia entre el planeta 1 y el planeta 2 es:\n",
      "En km: 50300000\n",
      "En millas: 31236300.0 \n"
     ]
    }
   ],
   "source": [
    "\n",
    "sol_a_p1 =input('Ingrese la distancia del sol al planeta 1: ')\n",
    "sol_a_p2 =input('Ingrese la distancia del sol al planeta 2: ')\n",
    "sol_a_p1 =int(sol_a_p1)\n",
    "sol_a_p2 =int(sol_a_p2)\n",
    "distancia_km = abs(sol_a_p2 - sol_a_p1)\n",
    "distancia_millas=distancia_km* 0.621\n",
    "print(f'La distancia entre el planeta 1 y el planeta 2 es:\\nEn km: {distancia_km}\\nEn millas: {distancia_millas} ')"
   ]
  }
 ],
 "metadata": {
  "interpreter": {
   "hash": "018a1cde5fd5b85d21de73fc7be59c57873b4bae96484ee79c2b703b633dff66"
  },
  "kernelspec": {
   "display_name": "Python 3.8.8rc1 64-bit",
   "language": "python",
   "name": "python3"
  },
  "language_info": {
   "codemirror_mode": {
    "name": "ipython",
    "version": 3
   },
   "file_extension": ".py",
   "mimetype": "text/x-python",
   "name": "python",
   "nbconvert_exporter": "python",
   "pygments_lexer": "ipython3",
   "version": "3.8.8rc1"
  },
  "orig_nbformat": 4
 },
 "nbformat": 4,
 "nbformat_minor": 2
}
